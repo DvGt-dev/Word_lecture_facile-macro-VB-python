{
 "cells": [
  {
   "cell_type": "markdown",
   "metadata": {},
   "source": [
    "````vb\n",
    "\n",
    "\n",
    "\n",
    "Sub color()\n",
    "\n",
    "\n",
    "    \n",
    "    Selection.Find.ClearFormatting\n",
    "    Selection.Find.Replacement.ClearFormatting\n",
    "    Selection.Find.Replacement.Highlight = True\n",
    "    Selection.Find.Replacement.Font.color = -704593921\n",
    "    With Selection.Find\n",
    "        .Text = \"\\« * \\»\"\n",
    "        .Replacement.Text = \"\"\n",
    "        .Forward = True\n",
    "        .Wrap = wdFindContinue\n",
    "        .Format = True\n",
    "        .MatchCase = False\n",
    "        .MatchWildcards = True\n",
    "    End With\n",
    "    Selection.Find.Execute Replace:=wdReplaceAll\n",
    "    '-------------------\n",
    "    \n",
    "    Selection.EscapeKey\n",
    "    Selection.Find.ClearFormatting\n",
    "    Selection.Find.Style = ActiveDocument.Styles(\"Titre 1\")\n",
    "    Selection.Find.Font.color = -738131969\n",
    "    Selection.Find.Replacement.ClearFormatting\n",
    "    Selection.Find.Replacement.Style = ActiveDocument.Styles(\"Titre 1\")\n",
    "    Selection.Find.Replacement.Font.color = 1298390\n",
    "    With Selection.Find\n",
    "        .Text = \"*\"\n",
    "        .Replacement.Text = \"\"\n",
    "        .Forward = True\n",
    "        .Wrap = wdFindContinue\n",
    "        .Format = True\n",
    "        .MatchCase = False\n",
    "        .MatchWholeWord = False\n",
    "        .MatchAllWordForms = False\n",
    "        .MatchSoundsLike = False\n",
    "        .MatchWildcards = True\n",
    "    End With\n",
    "    Selection.Find.Execute Replace:=wdReplaceAl\n",
    "    \n",
    "\n",
    "End Sub\n",
    "\n"
   ]
  },
  {
   "cell_type": "code",
   "execution_count": null,
   "metadata": {},
   "outputs": [],
   "source": [
    "import win32com.client\n",
    "\n",
    "word = win32com.client.Dispatch(\"Word.Application\")\n",
    "word.Visible = True\n",
    "doc = word.Documents.Open(\"c:\\\\Users\\\\dvrch\\\\Desktop\\\\Droit de l envir\\\\Syll 2061 2022-2023 (1).docx\")\n",
    "def color():\n",
    "    find = doc.Range().Find\n",
    "    find.ClearFormatting()\n",
    "    find.Replacement.ClearFormatting()\n",
    "    find.Replacement.Highlight = True\n",
    "    find.Replacement.Font.Color = -704593921\n",
    "    find.Text = \"\\« * \\»\"\n",
    "    find.Replacement.Text = \"\"\n",
    "    find.Execute(Replace=win32com.client.constants.wdReplaceAll)\n",
    "    find.ClearFormatting()\n",
    "    find.Replacement.ClearFormatting()\n",
    "    find.Replacement.Font.Color = -671039489\n",
    "    find.Text = \"[A-Z]\"\n",
    "    find.Replacement.Text = \"\"\n",
    "    find.Execute(Replace=win32com.client.constants.wdReplaceAll)\n",
    "    find.ClearFormatting()\n",
    "    find.Style = doc.Styles(\"Titre 1\")\n",
    "    find.Font.Color = -738131969\n",
    "    find.Replacement.ClearFormatting()\n",
    "    find.Replacement.Style = doc.Styles(\"Titre 1\")\n",
    "    find.Replacement.Font.Color = 1298390\n",
    "    find.Text = \"*\"\n",
    "    find.Replacement.Text = \"\"\n",
    "    find.Execute(Replace=win32com.client.constants.wdReplaceAll)\n",
    "\n",
    "color()"
   ]
  },
  {
   "cell_type": "code",
   "execution_count": null,
   "metadata": {},
   "outputs": [],
   "source": [
    "import win32com.client\n",
    "\n",
    "word = win32com.client.Dispatch(\"Word.Application\")\n",
    "word.Visible = True\n",
    "doc = word.Documents.Open(\"c:\\\\Users\\\\dvrch\\\\Desktop\\\\Droit de l envir\\\\Syll 2061 2022-2023 (1).docx\")\n",
    "\n",
    "find_texts = [\"\\« * \\»\", \"\\(*\\)\", \"«\", \"»\", \"\\(\", \"\\)\", \",\", \".\", \"<[A-Z]\", \"[A-Z]\", \"*\"]\n",
    "replace_texts = [\"\"] * len(find_texts)\n",
    "font_colors = [-704593921, -671039489, -654262273, -654262273, -654202273, -654202273, 12050515, 12058515, 716188, 1298390, -738131969]\n",
    "\n",
    "def color():\n",
    "    find = doc.Range().Find\n",
    "    for i in range(len(find_texts)):\n",
    "        find.ClearFormatting()\n",
    "        find.Replacement.ClearFormatting()\n",
    "        find.Replacement.Highlight = True\n",
    "        find.Replacement.Font.Color = font_colors[i]\n",
    "        find.Text = find_texts[i]\n",
    "        find.Replacement.Text = replace_texts[i]\n",
    "        find.Execute(Replace=win32com.client.constants.wdReplaceAll)\n",
    "    find.ClearFormatting()\n",
    "    find.Style = doc.Styles(\"Titre 1\")\n",
    "    find.Font.Color = -738131969\n",
    "    find.Replacement.ClearFormatting()\n",
    "    find.Replacement.Style = doc.Styles(\"Titre 1\")\n",
    "    find.Replacement.Font.Color = 1298390\n",
    "    find.Text = \"*\"\n",
    "    find.Replacement.Text = \"\"\n",
    "    find.Execute(Replace=win32com.client.constants.wdReplaceAll)\n",
    "\n",
    "color()\n",
    "\n"
   ]
  },
  {
   "cell_type": "code",
   "execution_count": null,
   "metadata": {},
   "outputs": [],
   "source": []
  },
  {
   "cell_type": "markdown",
   "metadata": {},
   "source": [
    "# Lo bon"
   ]
  },
  {
   "cell_type": "code",
   "execution_count": null,
   "metadata": {},
   "outputs": [],
   "source": []
  },
  {
   "cell_type": "code",
   "execution_count": null,
   "metadata": {},
   "outputs": [],
   "source": [
    "\n",
    "\n"
   ]
  },
  {
   "cell_type": "code",
   "execution_count": null,
   "metadata": {},
   "outputs": [],
   "source": [
    "from colorsys import hsv_to_rgb\n",
    "\n",
    "def hsv_to_hex(h, s, v):\n",
    "  return  \"#\" + \"\".join([f\"{int(255*c):02X}\" for c in hsv_to_rgb(h, s, v)])\n",
    "# hsv_to_hex (h, s, v) =  3.5 / 18, 4/10, 9/10\n",
    "# [lambda h, s, v: f\"#{int(255*c):02X}\" for c in hsv_to_rgb(h, s, v)]\n",
    "# ----------------------------------------------------------------------\n",
    "hex_color = [hsv_to_hex(i / 16, 8/10, 1) for i in range(0, 17)]\n",
    "Pair, Impair = hex_color[1::2][::-1], hex_color[::2] \n",
    "# hex_color = ['#7d0b35', '#FF1919', '#E219FF', '#FFC519', '#3619FF', '#8CFF19', '#19A8FF', '#11ae39', '#19FFA8', '#10a5a5', '#36FF19', '#1952FF', '#9db314', '#8C19FF', '#FF6F19']\n",
    "\n",
    "# [x for pair in zip(Pair, Impair) for x in pair]\n",
    "\n",
    "# txt = (\"\\« * \\»\", \"\\(*\\)\", \"«\", \"»\", \"\\(\", \"\\)\", \"_*_\", \"-\", \",\", \".\", \"<[A-Z]\", \"[A-Z]\", \"\\?\", \":\", \";\")\n",
    "\n",
    "[print(f\"\"\"<span style=\"color: {color};\">{t}</span>\"\"\") for color, t in zip(hex_color, txt)]  # visualiser en html\n",
    "\n",
    "# hex_color = \n",
    "[int(color[1:], 16) for color in hex_color] # rgb_color numérique> \"dddddddd\"\n",
    "\n",
    "# [f\"#{hex(color)[2:].zfill(6)}\" for color in hex_color]\n",
    "\n",
    "# ---------------"
   ]
  },
  {
   "cell_type": "markdown",
   "metadata": {
    "vscode": {
     "languageId": "html"
    }
   },
   "source": [
    "<span style=\"color: #154662;\">\\« * \\»</span>\n",
    "<span style=\"color: #4f2cd0;\">\\(*\\)</span>\n",
    "<span style=\"color: #ac275b;\">«</span>\n",
    "<span style=\"color: #791b40;\">»</span>\n",
    "<span style=\"color: #a27e89;\">\\(</span>\n",
    "<span style=\"color: #efbaca;\">\\)</span>\n",
    "<span style=\"color: #17b387;\">,</span>\n",
    "<span style=\"color: #308268;\">.</span>\n",
    "<span style=\"color: #d6cf13;\"><A-Z]</span>\n",
    "<span style=\"color: #cde6f5;\">[A-Z]</span>\n",
    "<span style=\"color: #9db314;\">\\?</span>\n",
    "<span style=\"color: #8C19FF;\">:</span>\n",
    "<span style=\"color: #FF6F19;\">;</span>\n",
    "<span style=\"color: #ca76ed;\">_*_</span>\n",
    "<span style=\"color: #0bf546;\">-</span>\n",
    "\n",
    "\n"
   ]
  },
  {
   "cell_type": "code",
   "execution_count": null,
   "metadata": {},
   "outputs": [],
   "source": [
    "(16724530, -16744242, -16763954, -15073074, -10092338, -5046066, -3342181, -3342258, -3342335, -3322623, -3302911, -4993791, -10040063, -15020799, -16724684, -16724607, -16724530)"
   ]
  },
  {
   "cell_type": "code",
   "execution_count": null,
   "metadata": {},
   "outputs": [],
   "source": [
    "# A utiliser"
   ]
  },
  {
   "cell_type": "code",
   "execution_count": null,
   "metadata": {},
   "outputs": [],
   "source": [
    "import win32com.client\n",
    "\n",
    "word = win32com.client.Dispatch(\"Word.Application\")\n",
    "word.Visible = True\n",
    "doc = word.Documents.Open(r\"C:\\Users\\dvrch\\Desktop\\Droit de l envir\\2-Intro au droit 2018-2019 Partie II Droit  UE et relations D interne.docm\")\n",
    "\n",
    "codeMacro = \"\"\"\n",
    "````vb \n",
    "Sub RemplacerParenthèses()\n",
    "    Dim txt As Variant, clr As Variant\n",
    "    Dim i As Long\n",
    "    \n",
    "    txt = Array(\"\\« * \\» \", \"\\(*\\) \", \"«\", \"»\", \"\\(\", \"\\) \", \",\", \".\", \"<[A-Z]\", \"A-Z\", \"\\?\", \":\", \";\", \"\\_\", \"\\-\", \"[0-9]{4}\")\n",
    "    clr = Array(-16777216, -570359809, -553582593, -738131969, -721354753, -687800321, -671023105, -704577537, -654245889, -570359809, -553582593, -738131969, -721354753, -687800321, -687800321, -738131969)\n",
    "    'Array(16718191, 16718105, 14817791, 16762137, 3545599, 9240345, 1681663, 1703762, 1703848, 1703935, 3604249, 1659647, 14876441, 9181695, 16740121, 16718277)\n",
    "    \n",
    "    For i = LBound(txt) To UBound(txt)\n",
    "        With selection.Find\n",
    "            .Text = txt(i)\n",
    "            .Replacement.Text = \"\"\n",
    "            .Replacement.Font.Color = clr(i)\n",
    "            .Execute Replace:=wdReplaceAll\n",
    "        End With\n",
    "    Next i\n",
    "End Sub\n",
    "\"\"\"\n",
    "\n",
    "doc.Content.InsertAfter(codeMacro)\n",
    "\n",
    "doc.Save()\n",
    "\n",
    "doc.Application.Run(\"RemplacerParenthèses\")\n",
    "\n",
    "doc.Save()\n",
    "# doc.Close()\n",
    "# word.Quit()"
   ]
  },
  {
   "cell_type": "markdown",
   "metadata": {
    "vscode": {
     "languageId": "html"
    }
   },
   "source": [
    "<span style=\"color: #154662;\">\\« * \\»</span>\n",
    "<span style=\"color: #4f2cd0;\">\\(*\\)</span>\n",
    "<s style=\"c: #329e2101;\">2</s>\n",
    "<s style=\"c: #20FF0001;\">3</s>\n",
    "<s style=\"c: #2BFF0001;\">4</s>\n",
    "<s style=\"c: #2AFF0001;\">5</s>\n",
    "<s style=\"c: #28FF0001;\">6</s>\n",
    "<s style=\"c: #27FF0001;\">7</s>\n",
    "<s style=\"c: #7300ff01;\">8</s>\n",
    "<s style=\"c: #26FF0001;\">9</s>\n",
    "<s style=\"c: #21FF0001;\">10</s>\n",
    "<s style=\"c: #20FF0001;\">11</s>\n",
    "<s style=\"c: #ffd00001;\">12</s>\n",
    "<s style=\"c: #2AFF0001;\">13</s>\n",
    "<s style=\"c: #28FF0001;\">14</s>\n",
    "<s style=\"c: #ff00d401;\">15</s>\n",
    "<s style=\"c: #2BFF0001;\">16</s>\n"
   ]
  },
  {
   "cell_type": "code",
   "execution_count": null,
   "metadata": {},
   "outputs": [],
   "source": [
    "Sub RemplacerParenthèses()\n",
    "    Dim txt As Variant, clr As Variant\n",
    "    Dim i As Long\n",
    "    \n",
    "    txt = Array(\"\\(*\\)\", \"\\«*\\»\", \"«\", \"»\", \"<[A-Z]\", \"A-Z\", \"\\?\", \"[0-9]{4}\", \"\\(\", \"\\)\", \",\", \".\", \":\", \";\", \"\\_\", \"\\-\")\n",
    "    clr = Array(-16777216, -570359809, -553582593, -738131969, -721354753, -687800321, -671023105, -704577537, -654245889, -570359809, -553582593, -738131969, -721354753, -687800321, -687800321, -738131969)\n",
    "    'Array(16718191, 16718105, 14817791, 16762137, 3545599, 9240345, 1681663, 1703762, 1703848, 1703935, 3604249, 1659647, 14876441, 9181695, 16740121, 16718277)\n",
    "    \n",
    "    For i = LBound(txt) To UBound(txt)\n",
    "        With Seslection.Find\n",
    "            .Text = txt(i)\n",
    "            .Replacement.Text = \"\"\n",
    "            .Replacement.Font.Color = clr(i)\n",
    "            .Execute Replace:=wdReplaceAll\n",
    "        End With\n",
    "    Next i\n",
    "End Sub\n"
   ]
  },
  {
   "cell_type": "markdown",
   "metadata": {},
   "source": [
    "# list colors selection"
   ]
  },
  {
   "cell_type": "code",
   "execution_count": null,
   "metadata": {},
   "outputs": [],
   "source": [
    "import win32com.client\n",
    "# abtenir couleur selection\n",
    "word = win32com.client.Dispatch(\"Word.Application\")\n",
    "word.Visible = True\n",
    "doc = word.Documents.Open(r\"C:\\Users\\dvrch\\Desktop\\Droit de l envir\\2-Intro au droit 2018-2019 Partie II Droit  UE et relations D interne.docm\")\n",
    "selections = word.Selection.Range.Words\n",
    "couleurs = [selection.Font.Color for selection in selections]\n",
    "couleurs = list(dict.fromkeys(couleurs))\n",
    "# couleurs = [ (selection.Font.Color, selection.Font.HighlightColorIndex) for selection in selections ]\n",
    "# couleur en hexadecimal\n",
    "print(couleurs)\n"
   ]
  },
  {
   "cell_type": "markdown",
   "metadata": {},
   "source": [
    "# tailles des paragraphes"
   ]
  },
  {
   "cell_type": "code",
   "execution_count": null,
   "metadata": {},
   "outputs": [],
   "source": [
    "import win32com.client\n",
    "\n",
    "word = win32com.client.Dispatch(\"Word.Application\")\n",
    "word.Visible = True\n",
    "wfl = r\"C:\\Users\\dvrch\\Desktop\\Droit de l envir\\Syll 2061 2022-2023 (1).docm\"\n",
    "doc = word.Documents.Open(wfl)\n",
    "tailles = list(dict.fromkeys([p.Range.Font.Size for p in doc.Paragraphs]))\n",
    "print(tailles)\n",
    "\n",
    "\n",
    "l = [6.0, 9.0, 10.0, 11.0, 12.0, 14.0, 16.0, 20.0, 9999999.0]\n"
   ]
  },
  {
   "cell_type": "code",
   "execution_count": null,
   "metadata": {},
   "outputs": [],
   "source": [
    "import win32com.client\n",
    "\n",
    "word = win32com.client.Dispatch(\"Word.Application\")\n",
    "word.Visible = True\n",
    "wfl = r\"C:\\Users\\dvrch\\Desktop\\Droit de l envir\\Syll 2061 2022-2023 (1).docm\"\n",
    "doc = word.Documents.Open(wfl)\n",
    "rtl = [p.Range.Font.Color for p in doc.Paragraphs if p.Range.Font.Size in [12.0, 14.0, 16.0, 20.0]]\n"
   ]
  },
  {
   "cell_type": "code",
   "execution_count": null,
   "metadata": {},
   "outputs": [],
   "source": [
    "import win32com.client\n",
    "\n",
    "# Obtenir couleur selection\n",
    "word = win32com.client.Dispatch(\"Word.Application\")\n",
    "word.Visible = True\n",
    "doc = word.Documents.Open(r\"C:\\Users\\dvrch\\Desktop\\Droit de l envir\\2-Intro au droit 2018-2019 Partie II Droit  UE et relations D interne.docm\")\n",
    "\n",
    "# Appliquer les couleurs d'accentuation\n",
    "for i in range(120):\n",
    "    doc.Range(i + 1, i + 2).Font.ColorIndex = i % 18 + 1  # Cycle à travers les 10 couleurs d'accentuation\n",
    "\n",
    "doc.Save()\n",
    "# word.Quit()"
   ]
  },
  {
   "cell_type": "markdown",
   "metadata": {},
   "source": [
    "# lister les couleurs d'accentuation"
   ]
  },
  {
   "cell_type": "code",
   "execution_count": null,
   "metadata": {},
   "outputs": [],
   "source": [
    "import win32com.client\n",
    "\n",
    "# Obtenir couleur selection\n",
    "word = win32com.client.Dispatch(\"Word.Application\")\n",
    "word.Visible = True\n",
    "doc = word.Documents.Open(r\"C:\\Users\\dvrch\\Desktop\\Droit de l envir\\2-Intro au droit 2018-2019 Partie II Droit  UE et relations D interne.docm\")\n",
    "\n",
    "couleurs_presente = []\n",
    "for i in range(100):\n",
    "    couleur = doc.Range(i + 1, i + 2).Font.ColorIndex\n",
    "    if couleur not in couleurs_presente:\n",
    "        couleurs_presente.append(couleur)\n",
    "\n",
    "print(f\"Couleurs présentes dans les 100 premiers caractères : {couleurs_presente}\")\n",
    "\n",
    "doc.Save()\n",
    "# word.Quit()"
   ]
  },
  {
   "cell_type": "markdown",
   "metadata": {},
   "source": [
    "# Theme color"
   ]
  },
  {
   "cell_type": "code",
   "execution_count": null,
   "metadata": {},
   "outputs": [],
   "source": [
    "import win32com.client\n",
    "\n",
    "# Obtenir couleur selection\n",
    "word = win32com.client.Dispatch(\"Word.Application\")\n",
    "word.Visible = True\n",
    "doc = word.Documents.Open(r\"C:\\Users\\dvrch\\Desktop\\Droit de l envir\\2-Intro au droit 2018-2019 Partie II Droit  UE et relations D interne.docm\")\n",
    "\n",
    "# Appliquer les couleurs de thème\n",
    "for i in range(100):\n",
    "    doc.Range(i + 1, i + 2).Font.ColorIndex = i % 9 + 1  # Cycle à travers les 9 couleurs de thème\n",
    "\n",
    "doc.Save()\n",
    "# word.Quit()"
   ]
  },
  {
   "cell_type": "code",
   "execution_count": null,
   "metadata": {},
   "outputs": [],
   "source": [
    "import win32com.client\n",
    "\n",
    "word = win32com.client.Dispatch(\"Word.Application\")\n",
    "word.Visible = True\n",
    "\n",
    "doc = word.Documents.Open(\n",
    "    r\"C:\\Users\\dvrch\\Desktop\\Droit de l envir\\2-Intro au droit 2018-2019 Partie II Droit  UE et relations D interne.docm\")\n",
    "exp = [doc.Range(i, i + 1).Font.ColorIndex := win32com.client.constants.wdRed for paragraph in doc.Paragraphs \n",
    "       for i in range(paragraph.Range.Start, paragraph.Range.End) for range in [doc.Range(i, i + 1)] \n",
    "       if range.Text in ['\"', '«', '»']]\n"
   ]
  },
  {
   "cell_type": "code",
   "execution_count": null,
   "metadata": {},
   "outputs": [],
   "source": [
    "import win32com.client\n",
    "import re\n",
    "word = win32com.client.Dispatch(\"Word.Application\")\n",
    "word.Visible = True\n",
    "doc = word.Documents.Open(\n",
    "    r\"C:\\Users\\dvrch\\Desktop\\Droit de l envir\\2-Intro au droit 2018-2019 Partie II Droit  UE et relations D interne.docm\")\n",
    "[doc.Range(paragraph.Range.Start + match.start(), paragraph.Range.Start + match.end()).Font.ColorIndex := -721354753 for paragraph in doc.Paragraphs for match in re.finditer(r'«(.*?)»', paragraph.Range.Text)]\n"
   ]
  },
  {
   "cell_type": "markdown",
   "metadata": {},
   "source": [
    "```` vb\n",
    "Sub Lisibiliteagreable()\n",
    "    Dim txt As Variant, clr As Variant\n",
    "    Dim i As Long\n",
    "    \n",
    "    txt = Array(\"\\« * \\»\", \"\\(*\\)\", \"«\", \"»\", \"\\(\", \"\\)\", \"\\_*\\_\", \"\\-\", \",\", \".\", \"<[A-Z]\", \"A-Z\", \"\\?\", \":\", \";\", \"[0-9]{4}\")\n",
    "    clr = Array(-721354753, -570359809, -553582593, -738131969, -721354753, -687800321, -671023105, -704577537, -654245889, -570359809, -553582593, -738131969, -721354753, -687800321, -687800321, -738131969)\n",
    "    'Array(16718191, 16718105, 14817791, 16762137, 3545599, 9240345, 1681663, 1703762, 1703848, 1703935, 3604249, 1659647, 14876441, 9181695, 16740121, 16718277)\n",
    "    \n",
    "    For i = LBound(txt) To UBound(txt)\n",
    "        With selection.Find\n",
    "            .Text = txt(i)\n",
    "            .Replacement.Text = \"\"\n",
    "            .Replacement.Font.Color = clr(i)\n",
    "            .Execute Replace:=wdReplaceAll\n",
    "        End With\n",
    "    Next i\n",
    "End Sub"
   ]
  }
 ],
 "metadata": {
  "kernelspec": {
   "display_name": "Python 3",
   "language": "python",
   "name": "python3"
  },
  "language_info": {
   "codemirror_mode": {
    "name": "ipython",
    "version": 3
   },
   "file_extension": ".py",
   "mimetype": "text/x-python",
   "name": "python",
   "nbconvert_exporter": "python",
   "pygments_lexer": "ipython3",
   "version": "3.12.3"
  }
 },
 "nbformat": 4,
 "nbformat_minor": 2
}
